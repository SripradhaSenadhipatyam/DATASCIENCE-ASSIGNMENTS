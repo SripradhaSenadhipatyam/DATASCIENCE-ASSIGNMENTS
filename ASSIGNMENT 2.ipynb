{
 "cells": [
  {
   "cell_type": "code",
   "execution_count": 2,
   "id": "02599070",
   "metadata": {},
   "outputs": [],
   "source": [
    "import numpy as np"
   ]
  },
  {
   "cell_type": "code",
   "execution_count": 4,
   "id": "65869881",
   "metadata": {},
   "outputs": [
    {
     "name": "stdout",
     "output_type": "stream",
     "text": [
      "3x3 Array:\n",
      " [[1 8 3]\n",
      " [6 5 3]\n",
      " [9 0 4]]\n",
      "Sum: 39\n",
      "Mean: 4.333333333333333\n",
      "Standard Deviation: 2.8284271247461903\n"
     ]
    }
   ],
   "source": [
    "# Basic Array Operations\n",
    "\n",
    "array = np.random.randint(0, 11, (3, 3))\n",
    "print(\"3x3 Array:\\n\", array)\n",
    "print(\"Sum:\", np.sum(array))\n",
    "print(\"Mean:\", np.mean(array))\n",
    "print(\"Standard Deviation:\", np.std(array))\n"
   ]
  },
  {
   "cell_type": "code",
   "execution_count": 6,
   "id": "b74f9ad8",
   "metadata": {},
   "outputs": [
    {
     "name": "stdout",
     "output_type": "stream",
     "text": [
      "1D Array: [6 6 9 8 9 4 8 4 7 6]\n",
      "Cumulative Sum: [ 6 12 21 29 38 42 50 54 61 67]\n"
     ]
    }
   ],
   "source": [
    "array_1 = np.random.randint(1, 10, 10)\n",
    "print(\"1D Array:\", array_1)\n",
    "print(\"Cumulative Sum:\", np.cumsum(array_1))\n"
   ]
  },
  {
   "cell_type": "code",
   "execution_count": 7,
   "id": "cb3b52d9",
   "metadata": {},
   "outputs": [
    {
     "name": "stdout",
     "output_type": "stream",
     "text": [
      "Addition of two arrays:\n",
      " [[16 13 10]\n",
      " [ 7  6 15]]\n",
      "Subtraction of two arrays:\n",
      " [[-2 -3  4]\n",
      " [-3  4 -3]]\n",
      "Multiplication of two arrays:\n",
      " [[63 40 21]\n",
      " [10  5 54]]\n",
      "Division of two arrays:\n",
      " [[0.77777778 0.625      2.33333333]\n",
      " [0.4        5.         0.66666667]]\n"
     ]
    }
   ],
   "source": [
    "array_2_a = np.random.randint(1, 10, (2, 3))\n",
    "array_2_b = np.random.randint(1, 10, (2, 3))\n",
    "print(\"Addition of two arrays:\\n\", array_2_a + array_2_b)\n",
    "print(\"Subtraction of two arrays:\\n\", array_2_a - array_2_b)\n",
    "print(\"Multiplication of two arrays:\\n\", array_2_a * array_2_b)\n",
    "print(\"Division of two arrays:\\n\", array_2_a / array_2_b)"
   ]
  },
  {
   "cell_type": "code",
   "execution_count": 8,
   "id": "6dab1922",
   "metadata": {},
   "outputs": [
    {
     "name": "stdout",
     "output_type": "stream",
     "text": [
      "4x4 Identity Matrix:\n",
      " [[1. 0. 0. 0.]\n",
      " [0. 1. 0. 0.]\n",
      " [0. 0. 1. 0.]\n",
      " [0. 0. 0. 1.]]\n"
     ]
    }
   ],
   "source": [
    "identity_matrix = np.eye(4)\n",
    "print(\"4x4 Identity Matrix:\\n\", identity_matrix)\n"
   ]
  },
  {
   "cell_type": "code",
   "execution_count": 10,
   "id": "6dbf5b60",
   "metadata": {},
   "outputs": [
    {
     "name": "stdout",
     "output_type": "stream",
     "text": [
      "Divided Array: [ 4.6  9.2 18.4 36.   6. ]\n"
     ]
    }
   ],
   "source": [
    "a = np.array([23, 46, 92, 180, 30])\n",
    "print(\"Divided Array:\", a / 5)\n"
   ]
  },
  {
   "cell_type": "code",
   "execution_count": 11,
   "id": "9f6277d1",
   "metadata": {},
   "outputs": [
    {
     "name": "stdout",
     "output_type": "stream",
     "text": [
      "Reshaped 3x4 Matrix:\n",
      " [[ 0  1  2  3]\n",
      " [ 4  5  6  7]\n",
      " [ 8  9 10 11]]\n"
     ]
    }
   ],
   "source": [
    "# Array Manipulation\n",
    "array_1D_12 = np.arange(12)\n",
    "matrix_3x4 = array_1D_12.reshape(3, 4)\n",
    "print(\"Reshaped 3x4 Matrix:\\n\", matrix_3x4)\n"
   ]
  },
  {
   "cell_type": "code",
   "execution_count": 12,
   "id": "6f739468",
   "metadata": {},
   "outputs": [
    {
     "name": "stdout",
     "output_type": "stream",
     "text": [
      "Flattened Array: [4 7 1 3 7 5 6 2 5]\n"
     ]
    }
   ],
   "source": [
    "matrix_3x3 = np.random.randint(1, 10, (3, 3))\n",
    "print(\"Flattened Array:\", matrix_3x3.flatten())\n"
   ]
  },
  {
   "cell_type": "code",
   "execution_count": 13,
   "id": "441da45f",
   "metadata": {},
   "outputs": [
    {
     "name": "stdout",
     "output_type": "stream",
     "text": [
      "Horizontally Stacked:\n",
      " [[4 7 1 2 4 1]\n",
      " [3 7 5 6 9 3]\n",
      " [6 2 5 8 3 2]]\n",
      "Vertically Stacked:\n",
      " [[4 7 1]\n",
      " [3 7 5]\n",
      " [6 2 5]\n",
      " [2 4 1]\n",
      " [6 9 3]\n",
      " [8 3 2]]\n"
     ]
    }
   ],
   "source": [
    "matrix_3x3_A = np.random.randint(1, 10, (3, 3))\n",
    "print(\"Horizontally Stacked:\\n\", np.hstack((matrix_3x3, matrix_3x3_A)))\n",
    "print(\"Vertically Stacked:\\n\", np.vstack((matrix_3x3, matrix_3x3_A)))\n"
   ]
  },
  {
   "cell_type": "code",
   "execution_count": 14,
   "id": "0268feb6",
   "metadata": {},
   "outputs": [
    {
     "name": "stdout",
     "output_type": "stream",
     "text": [
      "Concatenated Along New Axis:\n",
      " [[8 9 2 8 7]\n",
      " [9 8 8 1 1]\n",
      " [8 7 4 2 6]]\n"
     ]
    }
   ],
   "source": [
    "array_a = np.random.randint(1, 10, (3, 3))\n",
    "array_b = np.random.randint(1, 10, (3, 2))\n",
    "concatenated = np.concatenate((array_a, array_b), axis=1)\n",
    "print(\"Concatenated Along New Axis:\\n\", concatenated)"
   ]
  },
  {
   "cell_type": "code",
   "execution_count": 15,
   "id": "4a5c95db",
   "metadata": {},
   "outputs": [
    {
     "name": "stdout",
     "output_type": "stream",
     "text": [
      "Transposed and Reshaped:\n",
      " [[6 8]\n",
      " [2 6]\n",
      " [8 9]]\n"
     ]
    }
   ],
   "source": [
    "matrix_3x2 = np.random.randint(1, 10, (3, 2))\n",
    "print(\"Transposed and Reshaped:\\n\", matrix_3x2.T.reshape(3, 2))"
   ]
  },
  {
   "cell_type": "code",
   "execution_count": 16,
   "id": "c89db1cd",
   "metadata": {},
   "outputs": [
    {
     "name": "stdout",
     "output_type": "stream",
     "text": [
      "Extracted Elements: [2 4 6 8]\n"
     ]
    }
   ],
   "source": [
    "# Indexing and Slicing\n",
    "array_15 = np.arange(15)\n",
    "print(\"Extracted Elements:\", array_15[2:10:2])"
   ]
  },
  {
   "cell_type": "code",
   "execution_count": null,
   "id": "1175cdbd",
   "metadata": {},
   "outputs": [],
   "source": []
  }
 ],
 "metadata": {
  "kernelspec": {
   "display_name": "Python 3 (ipykernel)",
   "language": "python",
   "name": "python3"
  },
  "language_info": {
   "codemirror_mode": {
    "name": "ipython",
    "version": 3
   },
   "file_extension": ".py",
   "mimetype": "text/x-python",
   "name": "python",
   "nbconvert_exporter": "python",
   "pygments_lexer": "ipython3",
   "version": "3.9.13"
  }
 },
 "nbformat": 4,
 "nbformat_minor": 5
}
