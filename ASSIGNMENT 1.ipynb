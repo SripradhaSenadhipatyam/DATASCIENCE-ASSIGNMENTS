{
 "cells": [
  {
   "cell_type": "code",
   "execution_count": 2,
   "id": "e3dfdfd8",
   "metadata": {},
   "outputs": [
    {
     "name": "stdout",
     "output_type": "stream",
     "text": [
      "Hello, World!\n"
     ]
    }
   ],
   "source": [
    "# Basic String Manipulation\n",
    "message = \"Hello, World!\"\n",
    "print(message)"
   ]
  },
  {
   "cell_type": "code",
   "execution_count": 3,
   "id": "5e095587",
   "metadata": {},
   "outputs": [
    {
     "name": "stdout",
     "output_type": "stream",
     "text": [
      "Pytho\n"
     ]
    }
   ],
   "source": [
    "text = \"Python Programming\"\n",
    "print(text[:5])  # Extracting first five characters\n"
   ]
  },
  {
   "cell_type": "code",
   "execution_count": 5,
   "id": "ed09c7b6",
   "metadata": {},
   "outputs": [
    {
     "name": "stdout",
     "output_type": "stream",
     "text": [
      "SAISRIPRADHA\n"
     ]
    }
   ],
   "source": [
    "# String Methods\n",
    "s = \"Saisripradha\"\n",
    "print(s.upper())  # Convert to uppercase"
   ]
  },
  {
   "cell_type": "code",
   "execution_count": 6,
   "id": "e9c561b2",
   "metadata": {},
   "outputs": [
    {
     "name": "stdout",
     "output_type": "stream",
     "text": [
      "DataScience is awesome\n"
     ]
    }
   ],
   "source": [
    "s2 = \"DataScience is good\"\n",
    "print(s2.replace(\"good\", \"awesome\"))  # Replace word\n"
   ]
  },
  {
   "cell_type": "code",
   "execution_count": 7,
   "id": "99ec41a9",
   "metadata": {},
   "outputs": [
    {
     "name": "stdout",
     "output_type": "stream",
     "text": [
      "My name is Sripradha, and I am 21 years old.\n"
     ]
    }
   ],
   "source": [
    "# String Formatting\n",
    "name = \"Sripradha\"\n",
    "age = 21\n",
    "print(f\"My name is {name}, and I am {age} years old.\")  # f-string formatting\n"
   ]
  },
  {
   "cell_type": "code",
   "execution_count": 9,
   "id": "849b0ce5",
   "metadata": {},
   "outputs": [
    {
     "name": "stdout",
     "output_type": "stream",
     "text": [
      "49.99\n"
     ]
    }
   ],
   "source": [
    "price = 49.99\n",
    "print(f\"{price:.2f}\")  # Formatting price to two decimal places\n"
   ]
  },
  {
   "cell_type": "code",
   "execution_count": 10,
   "id": "1bb7e912",
   "metadata": {},
   "outputs": [
    {
     "name": "stdout",
     "output_type": "stream",
     "text": [
      "4\n"
     ]
    }
   ],
   "source": [
    "# String Functions\n",
    "sentence = \"Hello, Welcome to python \"\n",
    "print(sentence.count('o'))  # Count occurrences of 'o'\n"
   ]
  },
  {
   "cell_type": "code",
   "execution_count": 11,
   "id": "cfb11bbd",
   "metadata": {},
   "outputs": [
    {
     "name": "stdout",
     "output_type": "stream",
     "text": [
      "25\n"
     ]
    }
   ],
   "source": [
    "sentence2 = \"Hello, world! Welcome to python.\"\n",
    "print(sentence2.find(\"python\"))  # Find position of \"world\"\n"
   ]
  },
  {
   "cell_type": "code",
   "execution_count": 12,
   "id": "c639d3ed",
   "metadata": {},
   "outputs": [
    {
     "name": "stdout",
     "output_type": "stream",
     "text": [
      "aytidA\n"
     ]
    }
   ],
   "source": [
    "\n",
    "# Reverse and Check\n",
    "word = \"Aditya\"\n",
    "print(word[::-1])  # Reverse the string"
   ]
  },
  {
   "cell_type": "code",
   "execution_count": 13,
   "id": "f665a4dd",
   "metadata": {},
   "outputs": [
    {
     "name": "stdout",
     "output_type": "stream",
     "text": [
      "True\n"
     ]
    }
   ],
   "source": [
    "\n",
    "palindrome = \"level\"\n",
    "print(palindrome == palindrome[::-1])  # Check if palindrome"
   ]
  },
  {
   "cell_type": "code",
   "execution_count": null,
   "id": "850cb708",
   "metadata": {},
   "outputs": [],
   "source": []
  },
  {
   "cell_type": "code",
   "execution_count": null,
   "id": "db5e2669",
   "metadata": {},
   "outputs": [],
   "source": []
  }
 ],
 "metadata": {
  "kernelspec": {
   "display_name": "Python 3 (ipykernel)",
   "language": "python",
   "name": "python3"
  },
  "language_info": {
   "codemirror_mode": {
    "name": "ipython",
    "version": 3
   },
   "file_extension": ".py",
   "mimetype": "text/x-python",
   "name": "python",
   "nbconvert_exporter": "python",
   "pygments_lexer": "ipython3",
   "version": "3.9.13"
  }
 },
 "nbformat": 4,
 "nbformat_minor": 5
}
