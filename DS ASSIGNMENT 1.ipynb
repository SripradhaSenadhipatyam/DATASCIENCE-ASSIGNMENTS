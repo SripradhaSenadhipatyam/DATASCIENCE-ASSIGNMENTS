{
 "cells": [
  {
   "cell_type": "code",
   "execution_count": 2,
   "id": "efb4ea0e",
   "metadata": {},
   "outputs": [
    {
     "name": "stdout",
     "output_type": "stream",
     "text": [
      "Hello, World!\n"
     ]
    }
   ],
   "source": [
    "# Basic String Manipulation\n",
    "message = \"Hello, World!\"\n",
    "print(message)"
   ]
  },
  {
   "cell_type": "code",
   "execution_count": 2,
   "id": "3a658076",
   "metadata": {},
   "outputs": [
    {
     "name": "stdout",
     "output_type": "stream",
     "text": [
      "Hello, World!\n"
     ]
    }
   ],
   "source": [
    "# Basic String Manipulation\n",
    "message = \"Hello, World!\"\n",
    "print(message)"
   ]
  },
  {
   "cell_type": "code",
   "execution_count": 2,
   "id": "15f90147",
   "metadata": {},
   "outputs": [
    {
     "name": "stdout",
     "output_type": "stream",
     "text": [
      "Hello, World!\n"
     ]
    }
   ],
   "source": [
    "# Basic String Manipulation\n",
    "message = \"Hello, World!\"\n",
    "print(message)"
   ]
  },
  {
   "cell_type": "code",
   "execution_count": 3,
   "id": "5c34fcf5",
   "metadata": {},
   "outputs": [
    {
     "name": "stdout",
     "output_type": "stream",
     "text": [
      "Pytho\n"
     ]
    }
   ],
   "source": [
    "text = \"Python Programming\"\n",
    "print(text[:5])  # Extracting first five characters\n"
   ]
  },
  {
   "cell_type": "code",
   "execution_count": 5,
   "id": "5f2fc7a4",
   "metadata": {},
   "outputs": [
    {
     "name": "stdout",
     "output_type": "stream",
     "text": [
      "SAISRIPRADHA\n"
     ]
    }
   ],
   "source": [
    "# String Methods\n",
    "s = \"Saisripradha\"\n",
    "print(s.upper())  # Convert to uppercase"
   ]
  },
  {
   "cell_type": "code",
   "execution_count": 6,
   "id": "901d2fdb",
   "metadata": {},
   "outputs": [
    {
     "name": "stdout",
     "output_type": "stream",
     "text": [
      "DataScience is awesome\n"
     ]
    }
   ],
   "source": [
    "s2 = \"DataScience is good\"\n",
    "print(s2.replace(\"good\", \"awesome\"))  # Replace word\n"
   ]
  },
  {
   "cell_type": "code",
   "execution_count": 7,
   "id": "85f65537",
   "metadata": {},
   "outputs": [
    {
     "name": "stdout",
     "output_type": "stream",
     "text": [
      "My name is Sripradha, and I am 21 years old.\n"
     ]
    }
   ],
   "source": [
    "# String Formatting\n",
    "name = \"Sripradha\"\n",
    "age = 21\n",
    "print(f\"My name is {name}, and I am {age} years old.\")  # f-string formatting\n"
   ]
  },
  {
   "cell_type": "code",
   "execution_count": 9,
   "id": "10a75373",
   "metadata": {},
   "outputs": [
    {
     "name": "stdout",
     "output_type": "stream",
     "text": [
      "49.99\n"
     ]
    }
   ],
   "source": [
    "price = 49.99\n",
    "print(f\"{price:.2f}\")  # Formatting price to two decimal places\n"
   ]
  },
  {
   "cell_type": "code",
   "execution_count": 10,
   "id": "2d10758b",
   "metadata": {},
   "outputs": [
    {
     "name": "stdout",
     "output_type": "stream",
     "text": [
      "4\n"
     ]
    }
   ],
   "source": [
    "# String Functions\n",
    "sentence = \"Hello, Welcome to python \"\n",
    "print(sentence.count('o'))  # Count occurrences of 'o'\n"
   ]
  },
  {
   "cell_type": "code",
   "execution_count": 11,
   "id": "d0829b08",
   "metadata": {},
   "outputs": [
    {
     "name": "stdout",
     "output_type": "stream",
     "text": [
      "25\n"
     ]
    }
   ],
   "source": [
    "sentence2 = \"Hello, world! Welcome to python.\"\n",
    "print(sentence2.find(\"python\"))  # Find position of \"world\"\n"
   ]
  },
  {
   "cell_type": "code",
   "execution_count": 12,
   "id": "eb420cae",
   "metadata": {},
   "outputs": [
    {
     "name": "stdout",
     "output_type": "stream",
     "text": [
      "aytidA\n"
     ]
    }
   ],
   "source": [
    "\n",
    "# Reverse and Check\n",
    "word = \"Aditya\"\n",
    "print(word[::-1])  # Reverse the string"
   ]
  },
  {
   "cell_type": "code",
   "execution_count": 13,
   "id": "ce809098",
   "metadata": {},
   "outputs": [
    {
     "name": "stdout",
     "output_type": "stream",
     "text": [
      "True\n"
     ]
    }
   ],
   "source": [
    "\n",
    "palindrome = \"level\"\n",
    "print(palindrome == palindrome[::-1])  # Check if palindrome"
   ]
  },
  {
   "cell_type": "code",
   "execution_count": null,
   "id": "ac22c88d",
   "metadata": {},
   "outputs": [],
   "source": []
  },
  {
   "cell_type": "code",
   "execution_count": null,
   "id": "a75cb657",
   "metadata": {},
   "outputs": [],
   "source": []
  }
 ],
 "metadata": {
  "kernelspec": {
   "display_name": "Python 3 (ipykernel)",
   "language": "python",
   "name": "python3"
  },
  "language_info": {
   "codemirror_mode": {
    "name": "ipython",
    "version": 3
   },
   "file_extension": ".py",
   "mimetype": "text/x-python",
   "name": "python",
   "nbconvert_exporter": "python",
   "pygments_lexer": "ipython3",
   "version": "3.9.13"
  }
 },
 "nbformat": 4,
 "nbformat_minor": 5
}
